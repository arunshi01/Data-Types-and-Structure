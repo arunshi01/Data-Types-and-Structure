{
  "nbformat": 4,
  "nbformat_minor": 0,
  "metadata": {
    "colab": {
      "provenance": []
    },
    "kernelspec": {
      "name": "python3",
      "display_name": "Python 3"
    },
    "language_info": {
      "name": "python"
    }
  },
  "cells": [
    {
      "cell_type": "code",
      "execution_count": null,
      "metadata": {
        "id": "JlUH_IzF-YzS"
      },
      "outputs": [],
      "source": [
        "Theory Questions\n",
        "\n",
        "1) What are data structures, and why are they important?\n",
        "A) Data structures are ways of organizing & storing data so that it can be accessed &  modified efficiently.\n",
        "They are important because they help organize data logically making it easier to process, modify or analyze. They help represent and manage real-world data and can be reused.\n",
        "\n",
        "2)Explain the difference between mutable and immutable data types with examples\n",
        "A) Mutable objects can be changed after they are created.\n",
        " Eg- list, set, dict\n",
        " Immutable objects cannot be changed after creation. Any operation that tries to modify them creates a new object.\n",
        " Eg- int, float, str\n",
        "\n",
        "3) What are the main differences between lists and tuples in Python\n",
        "List can be changed. It is more flexible. Has many built-in methods.\n",
        "Tuple cannot be changed, has fixed size, has fewer built-in methods.\n",
        "\n",
        "4) Describe how dictionaries store data\n",
        "They store data in form of key-value pair, like a real-world dictionary where each word (key) maps to a definition (value).\n",
        "\n",
        "5)Why might you use a set instead of a list in Python\n",
        "For its uniqueness, faster lookup, membership test, set of operations.\n",
        "When we want to remove duplicates from a collection.\n",
        "\n",
        "6)What is a string in Python, and how is it different from a list\n",
        "A string in Python is a sequence of characters enclosed in either single or double quotes.\n",
        "String is set of charaters while list is sequence of data types. String are immutable while list is mutable.\n",
        "\n",
        "7) How do tuples ensure data integrity in Python\n",
        "Once a tuple is defined we cannot add, remove, or modify its elements. It acts like a read-only container.\n",
        "\n",
        "8. What is a hash table, and how does it relate to dictionaries in Python\n",
        "A hash table is a data structure that stores key-value pairs & allows fast data retrieval using a technique called hashing.\n",
        "Dictionaries are built on top of hash tables.\n",
        "\n",
        "9.Can lists contain different data types in Python\n",
        "yes\n",
        "\n",
        "10.Explain why strings are immutable in Python\n",
        "Strings are immutable in Python to ensure memory efficiency, thread safety, consistent behavior as dictionary keys and to prevent accidental modification.\n",
        "\n",
        "11. What advantages do dictionaries offer over lists for certain tasks\n",
        "Dictionaries are better when you need fast lookups, meaningful labels, and structured data, while lists are suited for ordered, sequential data.\n",
        "\n",
        "12. Describe a scenario where using a tuple would be preferable over a list\n",
        "When you want to store fixed, unchangeable data, such as coordinates or days of the week, tuple is ideal because it is immutable.\n",
        "\n",
        "13.How do sets handle duplicate values in Python\n",
        "Sets automatically remove duplicate values.\n",
        "\n",
        "14. How does the “in” keyword work differently for lists and dictionaries\n",
        "In list it checks if a value exists in the list.\n",
        "In dictionary it checks if a key exists in the dictionary (not the value).\n",
        "\n",
        "15. Can you modify the elements of a tuple? Explain why or why not\n",
        "No\n",
        "Tuples are immutable, meaning once created, their elements cannot be changed, added, or removed.\n",
        "\n",
        "16. What is a nested dictionary, and give an example of its use case\n",
        "A nested dictionary is a dictionary inside another dictionary. It allows you to store complex, hierarchical data in a structured way.\n",
        "Nested dictionaries are useful for representing structured data like:\n",
        "Databases of users, students, or employees, Configurations or settings grouped by category.\n",
        "\n",
        "17.Describe the time complexity of accessing elements in a dictionary\n",
        "O(1)\n",
        "\n",
        "18.  In what situations are lists preferred over dictionaries\n",
        "Use lists for ordered sequences and dictionaries for structured, labeled data.\n",
        "\n",
        "19.Why are dictionaries considered unordered, and how does that affect data retrieval\n",
        "Before Python 3.7, dictionaries were considered unordered because they did not preserve the insertion order of key-value pairs. The order of items could change, making iteration unpredictable.\n",
        "\n",
        "20. Explain the difference between a list and a dictionary in terms of data retrieval\n",
        "Use lists for ordered collections accessed by position, and dictionaries for fast access to data labeled with keys.\n",
        "\n",
        "\n"
      ]
    },
    {
      "cell_type": "code",
      "source": [
        "Practical Questions"
      ],
      "metadata": {
        "id": "0PFo6qu5bxd8"
      },
      "execution_count": null,
      "outputs": []
    },
    {
      "cell_type": "code",
      "source": [
        "#1 Write a code to create a string with your name and print it\n",
        "name= \"Arunshi\"\n",
        "print(name)"
      ],
      "metadata": {
        "colab": {
          "base_uri": "https://localhost:8080/"
        },
        "id": "4s7FpGYTb4Ig",
        "outputId": "bf18c7fb-96d8-4c14-90e3-65df9848ca5e"
      },
      "execution_count": null,
      "outputs": [
        {
          "output_type": "stream",
          "name": "stdout",
          "text": [
            "Arunshi\n"
          ]
        }
      ]
    },
    {
      "cell_type": "code",
      "source": [
        "#2 Write a code to find the length of the string \"Hello World\"\n",
        "string=\"Hello World\"\n",
        "print(len(string))"
      ],
      "metadata": {
        "colab": {
          "base_uri": "https://localhost:8080/"
        },
        "id": "JGXMXr6jidyN",
        "outputId": "b8bad0e9-48f1-4552-bdc3-9fc4398ccf77"
      },
      "execution_count": null,
      "outputs": [
        {
          "output_type": "stream",
          "name": "stdout",
          "text": [
            "11\n"
          ]
        }
      ]
    },
    {
      "cell_type": "code",
      "source": [
        "# 3 Write a code to slice the first 3 characters from the string \"Python Programming\n",
        "string=\"Python Programming\"\n",
        "print(string[:3])"
      ],
      "metadata": {
        "colab": {
          "base_uri": "https://localhost:8080/"
        },
        "id": "oKnPZ6TKiyMI",
        "outputId": "3701fa95-e31b-48a3-a68e-cdff6d18743a"
      },
      "execution_count": null,
      "outputs": [
        {
          "output_type": "stream",
          "name": "stdout",
          "text": [
            "Pyt\n"
          ]
        }
      ]
    },
    {
      "cell_type": "code",
      "source": [
        "#4 Write a code to convert the string \"hello\" to uppercase\n",
        "string=\"hello\"\n",
        "print(string.upper())"
      ],
      "metadata": {
        "colab": {
          "base_uri": "https://localhost:8080/"
        },
        "id": "htadBBTgjcZd",
        "outputId": "e8289f93-1552-42a0-faf6-45c3de02db07"
      },
      "execution_count": null,
      "outputs": [
        {
          "output_type": "stream",
          "name": "stdout",
          "text": [
            "HELLO\n"
          ]
        }
      ]
    },
    {
      "cell_type": "code",
      "source": [
        "#5 Write a code to replace the word \"apple\" with \"orange\" in the string \"I like apple\"\n",
        "string=\"I like Apple\"\n",
        "print(string.replace(\"Apple\",\"Orange\"))"
      ],
      "metadata": {
        "colab": {
          "base_uri": "https://localhost:8080/"
        },
        "id": "6IC6ZqUejuaO",
        "outputId": "97cbedef-13a0-4277-e5a8-dbf8602e7510"
      },
      "execution_count": null,
      "outputs": [
        {
          "output_type": "stream",
          "name": "stdout",
          "text": [
            "I like Orange\n"
          ]
        }
      ]
    },
    {
      "cell_type": "code",
      "source": [
        "#)6 Write a code to create a list with numbers 1 to 5 and print it\n",
        "list=[1,2,3,4,5]\n",
        "print(list)\n"
      ],
      "metadata": {
        "colab": {
          "base_uri": "https://localhost:8080/"
        },
        "id": "OGaBRlVkJphz",
        "outputId": "57197bc7-7201-450a-cbd1-c39d2c5ef942"
      },
      "execution_count": 1,
      "outputs": [
        {
          "output_type": "stream",
          "name": "stdout",
          "text": [
            "[1, 2, 3, 4, 5]\n"
          ]
        }
      ]
    },
    {
      "cell_type": "code",
      "source": [
        "#7 Write a code to append the number 10 to the list [1, 2, 3, 4]\n",
        "list=[1,2,3,4]\n",
        "list.append(10)\n",
        "print(list)"
      ],
      "metadata": {
        "colab": {
          "base_uri": "https://localhost:8080/"
        },
        "id": "tLoPCzKUKL_R",
        "outputId": "a666d854-4bbf-4f4c-b44a-e92bb09d2fdf"
      },
      "execution_count": 2,
      "outputs": [
        {
          "output_type": "stream",
          "name": "stdout",
          "text": [
            "[1, 2, 3, 4, 10]\n"
          ]
        }
      ]
    },
    {
      "cell_type": "code",
      "source": [
        "#8 Write a code to remove the number 3 from the list [1, 2, 3, 4, 5]\n",
        "list=[1,2,3,4,5]\n",
        "list.remove(3)\n",
        "print(list)"
      ],
      "metadata": {
        "colab": {
          "base_uri": "https://localhost:8080/"
        },
        "id": "5-Eo70guKg1m",
        "outputId": "e0b8c04e-fcc7-497c-962a-a8c178967710"
      },
      "execution_count": 3,
      "outputs": [
        {
          "output_type": "stream",
          "name": "stdout",
          "text": [
            "[1, 2, 4, 5]\n"
          ]
        }
      ]
    },
    {
      "cell_type": "code",
      "source": [
        "#9 Write a code to access the second element in the list ['a', 'b', 'c', 'd']\n",
        "list=['a','b','c','d']\n",
        "print(list[1])\n"
      ],
      "metadata": {
        "colab": {
          "base_uri": "https://localhost:8080/"
        },
        "id": "pdP6o2zRKxaH",
        "outputId": "252e1eb0-ca0e-4fbc-d6cf-3c4b1fcc6cf0"
      },
      "execution_count": 4,
      "outputs": [
        {
          "output_type": "stream",
          "name": "stdout",
          "text": [
            "b\n"
          ]
        }
      ]
    },
    {
      "cell_type": "code",
      "source": [
        "#10 Write a code to reverse the list [10, 20, 30, 40, 50]\n",
        "list=[10,20,30,40,50]\n",
        "list.reverse()\n",
        "print(list)"
      ],
      "metadata": {
        "colab": {
          "base_uri": "https://localhost:8080/"
        },
        "id": "nyAU5ihaLWnL",
        "outputId": "a1b5b786-fa37-41fa-dfed-cba8199f4153"
      },
      "execution_count": 5,
      "outputs": [
        {
          "output_type": "stream",
          "name": "stdout",
          "text": [
            "[50, 40, 30, 20, 10]\n"
          ]
        }
      ]
    },
    {
      "cell_type": "code",
      "source": [
        " #11 Write a code to create a tuple with the elements 100, 200, 300 and print it.\n",
        " tuple=(100,200,300)\n",
        " print(tuple)"
      ],
      "metadata": {
        "colab": {
          "base_uri": "https://localhost:8080/"
        },
        "id": "pOZFMyu4Ln0y",
        "outputId": "860f4925-dfeb-4f49-f7e4-c680c4aa1ba0"
      },
      "execution_count": 6,
      "outputs": [
        {
          "output_type": "stream",
          "name": "stdout",
          "text": [
            "(100, 200, 300)\n"
          ]
        }
      ]
    },
    {
      "cell_type": "code",
      "source": [
        "#12 Write a code to access the second-to-last element of the tuple ('red', 'green', 'blue', 'yellow').\n",
        "tuple= ('red', 'green', 'blue', 'yellow')\n",
        "print(tuple[-2])"
      ],
      "metadata": {
        "colab": {
          "base_uri": "https://localhost:8080/"
        },
        "id": "rXAoGkX2L3Pd",
        "outputId": "c0367df4-3482-4141-9793-0fcfe57638bb"
      },
      "execution_count": 8,
      "outputs": [
        {
          "output_type": "stream",
          "name": "stdout",
          "text": [
            "blue\n"
          ]
        }
      ]
    },
    {
      "cell_type": "code",
      "source": [
        "#13  Write a code to find the minimum number in the tuple (10, 20, 5, 15).\n",
        "\n",
        "\n",
        "tuple=(10,20,5,15)\n",
        "print(min(tuple))"
      ],
      "metadata": {
        "colab": {
          "base_uri": "https://localhost:8080/"
        },
        "id": "14CX7eEeXrNQ",
        "outputId": "70397b67-a358-419b-eb19-e3526233ec77"
      },
      "execution_count": 13,
      "outputs": [
        {
          "output_type": "stream",
          "name": "stdout",
          "text": [
            "5\n"
          ]
        }
      ]
    },
    {
      "cell_type": "code",
      "source": [
        "#14  Write a code to find the index of the element \"cat\" in the tuple ('dog', 'cat', 'rabbit')\n",
        "tuple=('dog','cat','rabbit')\n",
        "print(tuple.index('cat'))"
      ],
      "metadata": {
        "colab": {
          "base_uri": "https://localhost:8080/"
        },
        "id": "5ImbgQHaYqH7",
        "outputId": "4fd56474-b414-48fe-a02c-f2b2820a9300"
      },
      "execution_count": 14,
      "outputs": [
        {
          "output_type": "stream",
          "name": "stdout",
          "text": [
            "1\n"
          ]
        }
      ]
    },
    {
      "cell_type": "code",
      "source": [
        "#15  Write a code to create a tuple containing three different fruits and check if \"kiwi\" is in it.\n",
        "tuple=('mango','orange','apple')\n",
        "print('kiwi' in tuple)"
      ],
      "metadata": {
        "colab": {
          "base_uri": "https://localhost:8080/"
        },
        "id": "KTW7ji4CZzGw",
        "outputId": "c0a80e4d-f350-420a-9191-72a3822f2c94"
      },
      "execution_count": 15,
      "outputs": [
        {
          "output_type": "stream",
          "name": "stdout",
          "text": [
            "False\n"
          ]
        }
      ]
    },
    {
      "cell_type": "code",
      "source": [
        "#16  Write a code to create a set with the elements 'a', 'b', 'c' and print it.\n",
        "set={'a','b','c'}\n",
        "print(set)"
      ],
      "metadata": {
        "colab": {
          "base_uri": "https://localhost:8080/"
        },
        "id": "Mzs-ZKE4aV78",
        "outputId": "3ca08344-a3e7-443d-94c9-6700a5b2bb9e"
      },
      "execution_count": 16,
      "outputs": [
        {
          "output_type": "stream",
          "name": "stdout",
          "text": [
            "{'c', 'a', 'b'}\n"
          ]
        }
      ]
    },
    {
      "cell_type": "code",
      "source": [
        "#17  Write a code to clear all elements from the set {1, 2, 3, 4, 5}\n",
        "set= {1, 2, 3, 4, 5}\n",
        "set.clear()\n",
        "print(set)\n"
      ],
      "metadata": {
        "colab": {
          "base_uri": "https://localhost:8080/"
        },
        "id": "LmPp-k2NbGU4",
        "outputId": "b2b9026c-1711-4186-b6c0-83d11410b681"
      },
      "execution_count": 17,
      "outputs": [
        {
          "output_type": "stream",
          "name": "stdout",
          "text": [
            "set()\n"
          ]
        }
      ]
    },
    {
      "cell_type": "code",
      "source": [
        "#18 Write a code to remove the element 4 from the set {1, 2, 3, 4}.\n",
        "set= {1, 2, 3, 4}\n",
        "set.remove(4)\n",
        "print(set)"
      ],
      "metadata": {
        "colab": {
          "base_uri": "https://localhost:8080/"
        },
        "id": "QdAWIKlebYhm",
        "outputId": "4cb6fad4-8edd-4217-818f-c3b0a070323c"
      },
      "execution_count": 18,
      "outputs": [
        {
          "output_type": "stream",
          "name": "stdout",
          "text": [
            "{1, 2, 3}\n"
          ]
        }
      ]
    },
    {
      "cell_type": "markdown",
      "source": [],
      "metadata": {
        "id": "wF0jdxDLi_WD"
      }
    },
    {
      "cell_type": "code",
      "source": [
        "#19  Write a code to find the union of two sets {1, 2, 3} and {3, 4, 5}.\n",
        "\n",
        "s1={1,2,3}\n",
        "s2={3,4,5}\n",
        "print(s1.union(s2))"
      ],
      "metadata": {
        "colab": {
          "base_uri": "https://localhost:8080/"
        },
        "id": "Iqtx_6NTbrB-",
        "outputId": "76460829-d29c-49a3-b053-5ad6cff2effd"
      },
      "execution_count": 28,
      "outputs": [
        {
          "output_type": "stream",
          "name": "stdout",
          "text": [
            "{1, 2, 3, 4, 5}\n"
          ]
        }
      ]
    },
    {
      "cell_type": "code",
      "source": [
        "#20 . Write a code to find the intersection of two sets {1, 2, 3} and {2, 3, 4}\n",
        "s1={1,2,3}\n",
        "s2={2,3,4}\n",
        "print(s1.intersection(s2))"
      ],
      "metadata": {
        "colab": {
          "base_uri": "https://localhost:8080/"
        },
        "id": "5VPpS2gOdB2D",
        "outputId": "998f0a67-6563-469e-f999-248a7077fc30"
      },
      "execution_count": 30,
      "outputs": [
        {
          "output_type": "stream",
          "name": "stdout",
          "text": [
            "{2, 3}\n"
          ]
        }
      ]
    },
    {
      "cell_type": "code",
      "source": [
        "#21  Write a code to create a dictionary with the keys \"name\", \"age\", and \"city\" and print it\n",
        "\n",
        "dict={\"name\":\"Arunshi\",\"age\":\"24\",\"city\":\"gurugram\"}\n",
        "print(dict)\n"
      ],
      "metadata": {
        "colab": {
          "base_uri": "https://localhost:8080/"
        },
        "id": "gxggm4IheMNZ",
        "outputId": "176c23cd-a1a0-486c-b3e9-450a446f74b8"
      },
      "execution_count": 55,
      "outputs": [
        {
          "output_type": "stream",
          "name": "stdout",
          "text": [
            "{'name': 'Arunshi', 'age': '24', 'city': 'gurugram'}\n"
          ]
        }
      ]
    },
    {
      "cell_type": "code",
      "source": [
        "del print\n",
        "del dict"
      ],
      "metadata": {
        "colab": {
          "base_uri": "https://localhost:8080/",
          "height": 158
        },
        "id": "vaA9O12cwt2X",
        "outputId": "5cbca121-41ae-4bae-f669-caac41614a6d"
      },
      "execution_count": 58,
      "outputs": [
        {
          "output_type": "error",
          "ename": "NameError",
          "evalue": "name 'print' is not defined",
          "traceback": [
            "\u001b[0;31m---------------------------------------------------------------------------\u001b[0m",
            "\u001b[0;31mNameError\u001b[0m                                 Traceback (most recent call last)",
            "\u001b[0;32m<ipython-input-58-e6ae62771b56>\u001b[0m in \u001b[0;36m<cell line: 0>\u001b[0;34m()\u001b[0m\n\u001b[0;32m----> 1\u001b[0;31m \u001b[0;32mdel\u001b[0m \u001b[0mprint\u001b[0m\u001b[0;34m\u001b[0m\u001b[0;34m\u001b[0m\u001b[0m\n\u001b[0m\u001b[1;32m      2\u001b[0m \u001b[0;32mdel\u001b[0m \u001b[0mdict\u001b[0m\u001b[0;34m\u001b[0m\u001b[0;34m\u001b[0m\u001b[0m\n",
            "\u001b[0;31mNameError\u001b[0m: name 'print' is not defined"
          ]
        }
      ]
    },
    {
      "cell_type": "code",
      "source": [
        "#22  Write a code to add a new key-value pair \"country\": \"USA\" to the dictionary {'name': 'John', 'age': 25}.\n",
        "person = {'name': 'John', 'age': 25}\n",
        "person['country'] = 'USA'\n",
        "print(person)\n",
        "\n"
      ],
      "metadata": {
        "colab": {
          "base_uri": "https://localhost:8080/"
        },
        "id": "IdDDOGhji7li",
        "outputId": "9519c373-6de6-4618-c41f-2137c9a0d5e6"
      },
      "execution_count": 59,
      "outputs": [
        {
          "output_type": "stream",
          "name": "stdout",
          "text": [
            "{'name': 'John', 'age': 25, 'country': 'USA'}\n"
          ]
        }
      ]
    },
    {
      "cell_type": "code",
      "source": [
        "#23 . Write a code to access the value associated with the key \"name\" in the dictionary {'name': 'Alice', 'age': 30}.\n",
        "\n",
        "person= {'name': 'Alice', 'age': 30}\n",
        "print(person['name'])\n",
        "\n"
      ],
      "metadata": {
        "colab": {
          "base_uri": "https://localhost:8080/"
        },
        "id": "1BBA7R9Ss47t",
        "outputId": "9c9bd34c-0e33-4d39-92b8-a55600fa22b1"
      },
      "execution_count": 61,
      "outputs": [
        {
          "output_type": "stream",
          "name": "stdout",
          "text": [
            "Alice\n"
          ]
        }
      ]
    },
    {
      "cell_type": "code",
      "source": [
        "#24  Write a code to remove the key \"age\" from the dictionary {'name': 'Bob', 'age': 22, 'city': 'New York'}.\n",
        "person= {'name': 'Bob', 'age': 22, 'city': 'New York'}\n",
        "del person['age']\n",
        "print(person)"
      ],
      "metadata": {
        "colab": {
          "base_uri": "https://localhost:8080/"
        },
        "id": "9QR62gxDsL8o",
        "outputId": "af3d5b75-9cbf-4290-9105-49fbe61f6075"
      },
      "execution_count": 62,
      "outputs": [
        {
          "output_type": "stream",
          "name": "stdout",
          "text": [
            "{'name': 'Bob', 'city': 'New York'}\n"
          ]
        }
      ]
    },
    {
      "cell_type": "code",
      "source": [
        "#25 Write a code to check if the key \"city\" exists in the dictionary {'name': 'Alice', 'city': 'Paris'}.n person\n",
        "person={'name': 'Alice', 'city': 'Paris'}\n",
        "print('city' in person)\n"
      ],
      "metadata": {
        "colab": {
          "base_uri": "https://localhost:8080/"
        },
        "id": "WhcSGpONxjbn",
        "outputId": "c3636857-3f1a-4699-cdeb-7b8768472e19"
      },
      "execution_count": 63,
      "outputs": [
        {
          "output_type": "stream",
          "name": "stdout",
          "text": [
            "True\n"
          ]
        }
      ]
    },
    {
      "cell_type": "code",
      "source": [
        "#26  Write a code to create a list, a tuple, and a dictionary, and print them all.\n",
        "my_list = [1, 2, 3, 4, 5]\n",
        "my_tuple = ('apple', 'banana', 'cherry')\n",
        "my_dict = {'name': 'Alice', 'age': 30}\n",
        "print(\"List:\", my_list)\n",
        "print(\"Tuple:\", my_tuple)\n",
        "print(\"Dictionary:\", my_dict)"
      ],
      "metadata": {
        "colab": {
          "base_uri": "https://localhost:8080/"
        },
        "id": "OsQNV18BySZr",
        "outputId": "dd905117-4bf5-45bb-cc0f-cc6f02af4e65"
      },
      "execution_count": 64,
      "outputs": [
        {
          "output_type": "stream",
          "name": "stdout",
          "text": [
            "List: [1, 2, 3, 4, 5]\n",
            "Tuple: ('apple', 'banana', 'cherry')\n",
            "Dictionary: {'name': 'Alice', 'age': 30}\n"
          ]
        }
      ]
    },
    {
      "cell_type": "code",
      "source": [
        "#27  Write a code to create a list of 5 random numbers between 1 and 100, sort it in ascending order, and print the result.(replaced)\n",
        "import random\n",
        "random_numbers = [random.randint(1, 100) for _ in range(5)]\n",
        "random_numbers.sort()\n",
        "print(\"Sorted list:\", random_numbers)"
      ],
      "metadata": {
        "colab": {
          "base_uri": "https://localhost:8080/"
        },
        "id": "ycw1oK46ypuD",
        "outputId": "802ee077-51d6-45c8-86c6-6fede9a93e29"
      },
      "execution_count": 65,
      "outputs": [
        {
          "output_type": "stream",
          "name": "stdout",
          "text": [
            "Sorted list: [2, 24, 37, 77, 83]\n"
          ]
        }
      ]
    },
    {
      "cell_type": "code",
      "source": [
        "#28 Write a code to create a list with strings and print the element at the third index.\n",
        "fruits = ['apple', 'banana', 'cherry', 'date', 'mango']\n",
        "print(\"Element at index 3:\", fruits[3])"
      ],
      "metadata": {
        "colab": {
          "base_uri": "https://localhost:8080/"
        },
        "id": "Ge61Q_GdzAAB",
        "outputId": "156de695-a0d7-40b4-b495-44b657936df5"
      },
      "execution_count": 66,
      "outputs": [
        {
          "output_type": "stream",
          "name": "stdout",
          "text": [
            "Element at index 3: date\n"
          ]
        }
      ]
    },
    {
      "cell_type": "code",
      "source": [
        "#29  Write a code to combine two dictionaries into one and print the result.\n",
        "dict1 = {'a': 1, 'b': 2}\n",
        "dict2 = {'c': 3, 'd': 4}\n",
        "combined_dict = {**dict1, **dict2}\n",
        "print(\"Combined dictionary:\", combined_dict)"
      ],
      "metadata": {
        "colab": {
          "base_uri": "https://localhost:8080/"
        },
        "id": "qzdHNvKJzWmn",
        "outputId": "119e2482-4128-484a-b3ad-67dbcc7bbe9b"
      },
      "execution_count": 67,
      "outputs": [
        {
          "output_type": "stream",
          "name": "stdout",
          "text": [
            "Combined dictionary: {'a': 1, 'b': 2, 'c': 3, 'd': 4}\n"
          ]
        }
      ]
    },
    {
      "cell_type": "code",
      "source": [
        "del set"
      ],
      "metadata": {
        "colab": {
          "base_uri": "https://localhost:8080/",
          "height": 141
        },
        "id": "P6m7EQ_z0Nxv",
        "outputId": "18f8424b-d5ed-408d-f10f-ddadbfc51b24"
      },
      "execution_count": 71,
      "outputs": [
        {
          "output_type": "error",
          "ename": "NameError",
          "evalue": "name 'set' is not defined",
          "traceback": [
            "\u001b[0;31m---------------------------------------------------------------------------\u001b[0m",
            "\u001b[0;31mNameError\u001b[0m                                 Traceback (most recent call last)",
            "\u001b[0;32m<ipython-input-71-04cd32bbac5d>\u001b[0m in \u001b[0;36m<cell line: 0>\u001b[0;34m()\u001b[0m\n\u001b[0;32m----> 1\u001b[0;31m \u001b[0;32mdel\u001b[0m \u001b[0mset\u001b[0m\u001b[0;34m\u001b[0m\u001b[0;34m\u001b[0m\u001b[0m\n\u001b[0m",
            "\u001b[0;31mNameError\u001b[0m: name 'set' is not defined"
          ]
        }
      ]
    },
    {
      "cell_type": "code",
      "source": [
        "#30 Write a code to convert a list of strings into a set.\n",
        "string_list = ['apple', 'banana', 'cherry', 'apple', 'banana']\n",
        "string_set = set(string_list)\n",
        "print(\"Set:\", string_set)"
      ],
      "metadata": {
        "colab": {
          "base_uri": "https://localhost:8080/"
        },
        "id": "0RAafJSgznvJ",
        "outputId": "99265696-cafe-4f19-d113-ab3b762517ab"
      },
      "execution_count": 72,
      "outputs": [
        {
          "output_type": "stream",
          "name": "stdout",
          "text": [
            "Set: {'banana', 'apple', 'cherry'}\n"
          ]
        }
      ]
    }
  ]
}